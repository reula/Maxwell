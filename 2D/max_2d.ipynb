{
 "cells": [
  {
   "attachments": {},
   "cell_type": "markdown",
   "metadata": {},
   "source": [
    "## Code to have 2D Maxwell (with B in the direction z) using SummationByParts operators.\n",
    "\n",
    "This is to be ported to the PIC code."
   ]
  },
  {
   "cell_type": "code",
   "execution_count": 91,
   "metadata": {},
   "outputs": [],
   "source": [
    "using Plots\n",
    "using SummationByPartsOperators\n",
    "using LinearAlgebra\n",
    "using ArraysOfArrays"
   ]
  },
  {
   "cell_type": "code",
   "execution_count": 107,
   "metadata": {},
   "outputs": [
    {
     "data": {
      "text/plain": [
       "get_Fields! (generic function with 1 method)"
      ]
     },
     "metadata": {},
     "output_type": "display_data"
    }
   ],
   "source": [
    "include(\"../../PIC/PIC-1D/aux_functions/aux_functions_grid.jl\")\n",
    "include(\"../../PIC/PIC-1D/aux_functions/aux_functions_E-B.jl\")"
   ]
  },
  {
   "cell_type": "code",
   "execution_count": 96,
   "metadata": {},
   "outputs": [],
   "source": [
    "J = (10,20)\n",
    "Box = (0.0,2.0,0.0,1.0)\n",
    "dx = differentials(Box,J)\n",
    "D = 2\n",
    "\n",
    "xv = [(i-1)*dx[1] for i in 1:J[1]]\n",
    "yv = [(i-1)*dx[2] for i in 1:J[2]];"
   ]
  },
  {
   "cell_type": "code",
   "execution_count": 97,
   "metadata": {},
   "outputs": [
    {
     "data": {
      "text/plain": [
       "Periodic first-derivative operator of order 6 on a grid in [0.0, 1.0] using 20 nodes, \n",
       "stencils with 3 nodes to the left, 3 nodes to the right, and coefficients of Fornberg (1998) \n",
       "  Calculation of Weights in Finite Difference Formulas. \n",
       "  SIAM Rev. 40.3, pp. 685-691."
      ]
     },
     "metadata": {},
     "output_type": "display_data"
    }
   ],
   "source": [
    "Dx = periodic_derivative_operator(derivative_order=1, accuracy_order=6, xmin=Box[1], xmax=Box[2], N=J[1])\n",
    "Dy = periodic_derivative_operator(derivative_order=1, accuracy_order=6, xmin=Box[3], xmax=Box[4], N=J[2])"
   ]
  },
  {
   "attachments": {},
   "cell_type": "markdown",
   "metadata": {},
   "source": [
    "### Initial Data"
   ]
  },
  {
   "cell_type": "code",
   "execution_count": 104,
   "metadata": {},
   "outputs": [],
   "source": [
    "k = 2π*[3,3]\n",
    "fe(x,y) = sin(k[1]*x)*sin(k[2]*y)\n",
    "Ea = [(-1)^l*fe(xv[i],yv[j]) for l in 1:2, i in 1:J[1], j in 1:J[2]];\n",
    "B = [fe(xv[i],yv[j]) for i in 1:J[1], j in 1:J[2]];\n"
   ]
  },
  {
   "attachments": {},
   "cell_type": "markdown",
   "metadata": {},
   "source": [
    "We upload the initial data onto the evolution vector."
   ]
  },
  {
   "cell_type": "code",
   "execution_count": 137,
   "metadata": {},
   "outputs": [
    {
     "data": {
      "text/plain": [
       "10×20 Matrix{Float64}:\n",
       "  0.0   0.0           0.0          …  -0.0          -0.0\n",
       " -0.0  -0.475528     -0.559017         0.559017      0.475528\n",
       "  0.0   0.769421      0.904508        -0.904508     -0.769421\n",
       " -0.0  -0.769421     -0.904508         0.904508      0.769421\n",
       "  0.0   0.475528      0.559017        -0.559017     -0.475528\n",
       " -0.0  -5.94456e-16  -6.98825e-16  …   6.98825e-16   5.94456e-16\n",
       " -0.0  -0.475528     -0.559017         0.559017      0.475528\n",
       "  0.0   0.769421      0.904508        -0.904508     -0.769421\n",
       " -0.0  -0.769421     -0.904508         0.904508      0.769421\n",
       "  0.0   0.475528      0.559017        -0.559017     -0.475528"
      ]
     },
     "metadata": {},
     "output_type": "display_data"
    }
   ],
   "source": [
    "u = Vector{Float64}(undef,3*J[1]*J[2])\n",
    "du = Vector{Float64}(undef,3*J[1]*J[2])\n",
    "\n",
    "F = reshape(u,3,J[1],J[2])\n",
    "\n",
    "F[1:2,:,:] = Ea\n",
    "F[3,:,:] = B"
   ]
  },
  {
   "attachments": {},
   "cell_type": "markdown",
   "metadata": {},
   "source": [
    "Check that it is OK for this toy data."
   ]
  },
  {
   "cell_type": "code",
   "execution_count": 118,
   "metadata": {},
   "outputs": [
    {
     "name": "stdout",
     "output_type": "stream",
     "text": [
      "F[1, 3, 2] = -0.7694208842938134\n",
      "F[2, 3, 2] = 0.7694208842938134\n",
      "F[3, 3, 2] = 0.7694208842938134\n"
     ]
    },
    {
     "data": {
      "text/plain": [
       "0.7694208842938134"
      ]
     },
     "metadata": {},
     "output_type": "display_data"
    }
   ],
   "source": [
    "@show F[1,3,2]\n",
    "@show F[2,3,2]\n",
    "@show F[3,3,2]"
   ]
  },
  {
   "attachments": {},
   "cell_type": "markdown",
   "metadata": {},
   "source": [
    "Define the vectors to put the space derivatives."
   ]
  },
  {
   "cell_type": "code",
   "execution_count": 138,
   "metadata": {},
   "outputs": [
    {
     "data": {
      "text/plain": [
       "F! (generic function with 1 method)"
      ]
     },
     "metadata": {},
     "output_type": "display_data"
    }
   ],
   "source": [
    "function F!(du, u, t, par)\n",
    "    u_a = reshape(u,(3,J...))\n",
    "    Du_a = reshape(du,(3,J...))\n",
    "    for i in 1:J[1]\n",
    "        mul!(Du_a[1,i,:],Dy, u_a[3,i,:],one(eltype(u_a)))\n",
    "        mul!(Du_a[3,i,:],Dy, u_a[1,i,:],one(eltype(u_a)))\n",
    "    end\n",
    "    for j in 1:J[2]\n",
    "        mul!(Du_a[2,:,j],Dx, u_a[3,:,j],one(eltype(u_a)))\n",
    "        mul!(Du_a[3,:,j],Dx, u_a[2,:,j],-one(eltype(u_a)),one(eltype(u_a)))\n",
    "    end\n",
    "    return du[:].=Du_a\n",
    "end"
   ]
  },
  {
   "cell_type": "code",
   "execution_count": 139,
   "metadata": {},
   "outputs": [
    {
     "data": {
      "text/plain": [
       "600-element Vector{Float64}:\n",
       " 0.0\n",
       " 0.0\n",
       " 0.0\n",
       " 0.0\n",
       " 0.0\n",
       " 0.0\n",
       " 0.0\n",
       " 0.0\n",
       " 0.0\n",
       " 0.0\n",
       " ⋮\n",
       " 0.0\n",
       " 0.0\n",
       " 0.0\n",
       " 0.0\n",
       " 0.0\n",
       " 0.0\n",
       " 0.0\n",
       " 0.0\n",
       " 0.0"
      ]
     },
     "metadata": {},
     "output_type": "display_data"
    }
   ],
   "source": [
    "#du = similar(u)\n",
    "du .= 0.0\n",
    "t = 0.0\n",
    "par = (0,)\n",
    "F!(du,u,t,par)\n",
    "du\n",
    "#u"
   ]
  },
  {
   "cell_type": "code",
   "execution_count": null,
   "metadata": {},
   "outputs": [],
   "source": []
  }
 ],
 "metadata": {
  "kernelspec": {
   "display_name": "Julia 1.8.1",
   "language": "julia",
   "name": "julia-1.8"
  },
  "language_info": {
   "file_extension": ".jl",
   "mimetype": "application/julia",
   "name": "julia",
   "version": "1.8.1"
  },
  "orig_nbformat": 4
 },
 "nbformat": 4,
 "nbformat_minor": 2
}
