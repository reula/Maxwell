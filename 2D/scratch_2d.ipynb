{
 "cells": [
  {
   "attachments": {},
   "cell_type": "markdown",
   "metadata": {},
   "source": [
    "### Where we experiment"
   ]
  },
  {
   "cell_type": "code",
   "execution_count": 1,
   "metadata": {},
   "outputs": [],
   "source": [
    "using Plots\n",
    "using SummationByPartsOperators\n",
    "using LinearAlgebra\n",
    "using ArraysOfArrays"
   ]
  },
  {
   "cell_type": "code",
   "execution_count": 18,
   "metadata": {},
   "outputs": [
    {
     "data": {
      "text/plain": [
       "get_index_and_y_alt! (generic function with 1 method)"
      ]
     },
     "metadata": {},
     "output_type": "display_data"
    }
   ],
   "source": [
    "include(\"../../PIC/PIC-1D/aux_functions/aux_functions_grid.jl\")"
   ]
  },
  {
   "cell_type": "code",
   "execution_count": 3,
   "metadata": {},
   "outputs": [],
   "source": [
    "J = (10,20)\n",
    "Box = (0.0,2.0,0.0,1.0)\n",
    "dx = differentials(Box,J)\n",
    "D = 2\n",
    "\n",
    "xv = [(i-1)*dx[1] for i in 1:J[1]]\n",
    "yv = [(i-1)*dx[2] for i in 1:J[2]];"
   ]
  },
  {
   "cell_type": "code",
   "execution_count": 4,
   "metadata": {},
   "outputs": [
    {
     "data": {
      "text/plain": [
       "Periodic first-derivative operator of order 6 on a grid in [0.0, 1.0] using 20 nodes, \n",
       "stencils with 3 nodes to the left, 3 nodes to the right, and coefficients of Fornberg (1998) \n",
       "  Calculation of Weights in Finite Difference Formulas. \n",
       "  SIAM Rev. 40.3, pp. 685-691."
      ]
     },
     "metadata": {},
     "output_type": "display_data"
    }
   ],
   "source": [
    "Dx = periodic_derivative_operator(derivative_order=1, accuracy_order=6, xmin=Box[1], xmax=Box[2], N=J[1])\n",
    "Dy = periodic_derivative_operator(derivative_order=1, accuracy_order=6, xmin=Box[3], xmax=Box[4], N=J[2])"
   ]
  },
  {
   "cell_type": "code",
   "execution_count": 5,
   "metadata": {},
   "outputs": [],
   "source": [
    "k = 2π*[3,3]\n",
    "fe(x,y) = sin(k[1]*x)*sin(k[2]*y)\n",
    "Ea = [(-1)^l*fe(xv[i],yv[j]) for l in 1:2, i in 1:J[1], j in 1:J[2]];\n",
    "\n",
    "#grad_Ea = [(-1)^l * ( (2-m)*k[1]*cos(k[1]*xv[i])*sin(k[2]*yv[j]) + (m-1)*k[2]*sin(k[1]*xv[i])*cos(k[2]*yv[j]) ) for m in 1:2, for l in 1:2, i in 1:J[1], j in 1:J[2] ];\n",
    "\n",
    "grad_Ea = Array{Float64,4}(undef,(D,D,J...))\n",
    "grad_sbp_Ea = Array{Float64,4}(undef,(D,D,J...))\n",
    "\n",
    "for m in 1:2\n",
    "    for l in 1:2\n",
    "        for i in 1:J[1]\n",
    "            for j in 1:J[2]\n",
    "            grad_Ea[m,l,i,j] = (-1)^l * ( (2-m)*k[1]*cos(k[1]*xv[i])*sin(k[2]*yv[j]) + (m-1)*k[2]*sin(k[1]*xv[i])*cos(k[2]*yv[j]) )\n",
    "            end\n",
    "        end\n",
    "    end\n",
    "end"
   ]
  },
  {
   "cell_type": "code",
   "execution_count": 6,
   "metadata": {},
   "outputs": [
    {
     "data": {
      "image/png": "[encoded data removed]",
      "image/svg+xml": "<?xml version=\"1.0\" encoding=\"utf-8\"?>\n<svg xmlns=\"http://www.w3.org/2000/svg\" xmlns:xlink=\"http://www.w3.org/1999/xlink\" width=\"600\" height=\"400\" viewBox=\"0 0 2400 1600\">\n<defs>\n  <clipPath id=\"clip930\">\n    <rect x=\"0\" y=\"0\" width=\"2400\" height=\"1600\"/>\n  </clipPath>\n</defs>\n<path clip-path=\"url(#clip930)\" d=\"\nM0 1600 L2400 1600 L2400 0 L0 0  Z\n  \" fill=\"#ffffff\" fill-rule=\"evenodd\" fill-opacity=\"1\"/>\n<defs>\n  <clipPath id=\"clip931\">\n    <rect x=\"480\" y=\"0\" width=\"1681\" height=\"1600\"/>\n  </clipPath>\n</defs>\n<path clip-path=\"url(#clip930)\" d=\"\nM193.936 1486.45 L2352.76 1486.45 L2352.76 47.2441 L193.936 47.2441  Z\n  \" fill=\"#ffffff\" fill-rule=\"evenodd\" fill-opacity=\"1\"/>\n<defs>\n  <clipPath id=\"clip932\">\n    <rect x=\"193\" y=\"47\" width=\"2160\" height=\"1440\"/>\n  </clipPath>\n</defs>\n<polyline clip-path=\"url(#clip932)\" style=\"stroke:#000000; stroke-linecap:round; stroke-linejoin:round; stroke-width:2; stroke-opacity:0.1; fill:none\" points=\"\n  255.035,1486.45 255.035,47.2441 \n  \"/>\n<polyline clip-path=\"url(#clip932)\" style=\"stroke:#000000; stroke-linecap:round; stroke-linejoin:round; stroke-width:2; stroke-opacity:0.1; fill:none\" points=\"\n  820.763,1486.45 820.763,47.2441 \n  \"/>\n<polyline clip-path=\"url(#clip932)\" style=\"stroke:#000000; stroke-linecap:round; stroke-linejoin:round; stroke-width:2; stroke-opacity:0.1; fill:none\" points=\"\n  1386.49,1486.45 1386.49,47.2441 \n  \"/>\n<polyline clip-path=\"url(#clip932)\" style=\"stroke:#000000; stroke-linecap:round; stroke-linejoin:round; stroke-width:2; stroke-opacity:0.1; fill:none\" points=\"\n  1952.22,1486.45 1952.22,47.2441 \n  \"/>\n<polyline clip-path=\"url(#clip930)\" style=\"stroke:#000000; stroke-linecap:round; stroke-linejoin:round; stroke-width:4; stroke-opacity:1; fill:none\" points=\"\n  193.936,1486.45 2352.76,1486.45 \n  \"/>\n<polyline clip-path=\"url(#clip930)\" style=\"stroke:#000000; stroke-linecap:round; stroke-linejoin:round; stroke-width:4; stroke-opacity:1; fill:none\" points=\"\n  255.035,1486.45 255.035,1467.55 \n  \"/>\n<polyline clip-path=\"url(#clip930)\" style=\"stroke:#000000; stroke-linecap:round; stroke-linejoin:round; stroke-width:4; stroke-opacity:1; fill:none\" points=\"\n  820.763,1486.45 820.763,1467.55 \n  \"/>\n<polyline clip-path=\"url(#clip930)\" style=\"stroke:#000000; stroke-linecap:round; stroke-linejoin:round; stroke-width:4; stroke-opacity:1; fill:none\" points=\"\n  1386.49,1486.45 1386.49,1467.55 \n  \"/>\n<polyline clip-path=\"url(#clip930)\" style=\"stroke:#000000; stroke-linecap:round; stroke-linejoin:round; stroke-width:4; stroke-opacity:1; fill:none\" points=\"\n  1952.22,1486.45 1952.22,1467.55 \n  \"/>\n<path clip-path=\"url(#clip930)\" d=\"M232.419 1517.37 Q228.808 1517.37 226.979 1520.93 Q225.174 1524.47 225.174 1531.6 Q225.174 1538.71 226.979 1542.27 Q228.808 1545.82 232.419 1545.82 Q236.053 1545.82 237.859 1542.27 Q239.688 1538.71 239.688 1531.6 Q239.688 1524.47 237.859 1520.93 Q236.053 1517.37 232.419 1517.37 M232.419 1513.66 Q238.229 1513.66 241.285 1518.27 Q244.363 1522.85 244.363 1531.6 Q244.363 1540.33 241.285 1544.94 Q238.229 1549.52 232.419 1549.52 Q226.609 1549.52 223.53 1544.94 Q220.475 1540.33 220.475 1531.6 Q220.475 1522.85 223.53 1518.27 Q226.609 1513.66 232.419 1513.66 Z\" fill=\"#000000\" fill-rule=\"evenodd\" fill-opacity=\"1\" /><path clip-path=\"url(#clip930)\" d=\"M252.581 1542.97 L257.465 1542.97 L257.465 1548.85 L252.581 1548.85 L252.581 1542.97 Z\" fill=\"#000000\" fill-rule=\"evenodd\" fill-opacity=\"1\" /><path clip-path=\"url(#clip930)\" d=\"M277.65 1517.37 Q274.039 1517.37 272.211 1520.93 Q270.405 1524.47 270.405 1531.6 Q270.405 1538.71 272.211 1542.27 Q274.039 1545.82 277.65 1545.82 Q281.285 1545.82 283.09 1542.27 Q284.919 1538.71 284.919 1531.6 Q284.919 1524.47 283.09 1520.93 Q281.285 1517.37 277.65 1517.37 M277.65 1513.66 Q283.46 1513.66 286.516 1518.27 Q289.595 1522.85 289.595 1531.6 Q289.595 1540.33 286.516 1544.94 Q283.46 1549.52 277.65 1549.52 Q271.84 1549.52 268.761 1544.94 Q265.706 1540.33 265.706 1531.6 Q265.706 1522.85 268.761 1518.27 Q271.84 1513.66 277.65 1513.66 Z\" fill=\"#000000\" fill-rule=\"evenodd\" fill-opacity=\"1\" /><path clip-path=\"url(#clip930)\" d=\"M798.645 1517.37 Q795.034 1517.37 793.205 1520.93 Q791.4 1524.47 791.4 1531.6 Q791.4 1538.71 793.205 1542.27 Q795.034 1545.82 798.645 1545.82 Q802.279 1545.82 804.085 1542.27 Q805.914 1538.71 805.914 1531.6 Q805.914 1524.47 804.085 1520.93 Q802.279 1517.37 798.645 1517.37 M798.645 1513.66 Q804.455 1513.66 807.511 1518.27 Q810.59 1522.85 810.59 1531.6 Q810.59 1540.33 807.511 1544.94 Q804.455 1549.52 798.645 1549.52 Q792.835 1549.52 789.756 1544.94 Q786.701 1540.33 786.701 1531.6 Q786.701 1522.85 789.756 1518.27 Q792.835 1513.66 798.645 1513.66 Z\" fill=\"#000000\" fill-rule=\"evenodd\" fill-opacity=\"1\" /><path clip-path=\"url(#clip930)\" d=\"M818.807 1542.97 L823.691 1542.97 L823.691 1548.85 L818.807 1548.85 L818.807 1542.97 Z\" fill=\"#000000\" fill-rule=\"evenodd\" fill-opacity=\"1\" /><path clip-path=\"url(#clip930)\" d=\"M833.923 1514.29 L852.279 1514.29 L852.279 1518.22 L838.205 1518.22 L838.205 1526.7 Q839.224 1526.35 840.242 1526.19 Q841.261 1526 842.279 1526 Q848.066 1526 851.446 1529.17 Q854.825 1532.34 854.825 1537.76 Q854.825 1543.34 851.353 1546.44 Q847.881 1549.52 841.562 1549.52 Q839.386 1549.52 837.117 1549.15 Q834.872 1548.78 832.464 1548.04 L832.464 1543.34 Q834.548 1544.47 836.77 1545.03 Q838.992 1545.58 841.469 1545.58 Q845.474 1545.58 847.812 1543.48 Q850.15 1541.37 850.15 1537.76 Q850.15 1534.15 847.812 1532.04 Q845.474 1529.94 841.469 1529.94 Q839.594 1529.94 837.719 1530.35 Q835.867 1530.77 833.923 1531.65 L833.923 1514.29 Z\" fill=\"#000000\" fill-rule=\"evenodd\" fill-opacity=\"1\" /><path clip-path=\"url(#clip930)\" d=\"M1353.64 1544.91 L1361.28 1544.91 L1361.28 1518.55 L1352.97 1520.21 L1352.97 1515.95 L1361.24 1514.29 L1365.91 1514.29 L1365.91 1544.91 L1373.55 1544.91 L1373.55 1548.85 L1353.64 1548.85 L1353.64 1544.91 Z\" fill=\"#000000\" fill-rule=\"evenodd\" fill-opacity=\"1\" /><path clip-path=\"url(#clip930)\" d=\"M1383 1542.97 L1387.88 1542.97 L1387.88 1548.85 L1383 1548.85 L1383 1542.97 Z\" fill=\"#000000\" fill-rule=\"evenodd\" fill-opacity=\"1\" /><path clip-path=\"url(#clip930)\" d=\"M1408.07 1517.37 Q1404.45 1517.37 1402.63 1520.93 Q1400.82 1524.47 1400.82 1531.6 Q1400.82 1538.71 1402.63 1542.27 Q1404.45 1545.82 1408.07 1545.82 Q1411.7 1545.82 1413.51 1542.27 Q1415.33 1538.71 1415.33 1531.6 Q1415.33 1524.47 1413.51 1520.93 Q1411.7 1517.37 1408.07 1517.37 M1408.07 1513.66 Q1413.88 1513.66 1416.93 1518.27 Q1420.01 1522.85 1420.01 1531.6 Q1420.01 1540.33 1416.93 1544.94 Q1413.88 1549.52 1408.07 1549.52 Q1402.26 1549.52 1399.18 1544.94 Q1396.12 1540.33 1396.12 1531.6 Q1396.12 1522.85 1399.18 1518.27 Q1402.26 1513.66 1408.07 1513.66 Z\" fill=\"#000000\" fill-rule=\"evenodd\" fill-opacity=\"1\" /><path clip-path=\"url(#clip930)\" d=\"M1919.87 1544.91 L1927.51 1544.91 L1927.51 1518.55 L1919.2 1520.21 L1919.2 1515.95 L1927.46 1514.29 L1932.14 1514.29 L1932.14 1544.91 L1939.78 1544.91 L1939.78 1548.85 L1919.87 1548.85 L1919.87 1544.91 Z\" fill=\"#000000\" fill-rule=\"evenodd\" fill-opacity=\"1\" /><path clip-path=\"url(#clip930)\" d=\"M1949.22 1542.97 L1954.11 1542.97 L1954.11 1548.85 L1949.22 1548.85 L1949.22 1542.97 Z\" fill=\"#000000\" fill-rule=\"evenodd\" fill-opacity=\"1\" /><path clip-path=\"url(#clip930)\" d=\"M1964.34 1514.29 L1982.69 1514.29 L1982.69 1518.22 L1968.62 1518.22 L1968.62 1526.7 Q1969.64 1526.35 1970.66 1526.19 Q1971.68 1526 1972.69 1526 Q1978.48 1526 1981.86 1529.17 Q1985.24 1532.34 1985.24 1537.76 Q1985.24 1543.34 1981.77 1546.44 Q1978.3 1549.52 1971.98 1549.52 Q1969.8 1549.52 1967.53 1549.15 Q1965.29 1548.78 1962.88 1548.04 L1962.88 1543.34 Q1964.96 1544.47 1967.19 1545.03 Q1969.41 1545.58 1971.88 1545.58 Q1975.89 1545.58 1978.23 1543.48 Q1980.56 1541.37 1980.56 1537.76 Q1980.56 1534.15 1978.23 1532.04 Q1975.89 1529.94 1971.88 1529.94 Q1970.01 1529.94 1968.13 1530.35 Q1966.28 1530.77 1964.34 1531.65 L1964.34 1514.29 Z\" fill=\"#000000\" fill-rule=\"evenodd\" fill-opacity=\"1\" /><polyline clip-path=\"url(#clip932)\" style=\"stroke:#000000; stroke-linecap:round; stroke-linejoin:round; stroke-width:2; stroke-opacity:0.1; fill:none\" points=\"\n  193.936,1321.31 2352.76,1321.31 \n  \"/>\n<polyline clip-path=\"url(#clip932)\" style=\"stroke:#000000; stroke-linecap:round; stroke-linejoin:round; stroke-width:2; stroke-opacity:0.1; fill:none\" points=\"\n  193.936,1008.24 2352.76,1008.24 \n  \"/>\n<polyline clip-path=\"url(#clip932)\" style=\"stroke:#000000; stroke-linecap:round; stroke-linejoin:round; stroke-width:2; stroke-opacity:0.1; fill:none\" points=\"\n  193.936,695.176 2352.76,695.176 \n  \"/>\n<polyline clip-path=\"url(#clip932)\" style=\"stroke:#000000; stroke-linecap:round; stroke-linejoin:round; stroke-width:2; stroke-opacity:0.1; fill:none\" points=\"\n  193.936,382.111 2352.76,382.111 \n  \"/>\n<polyline clip-path=\"url(#clip932)\" style=\"stroke:#000000; stroke-linecap:round; stroke-linejoin:round; stroke-width:2; stroke-opacity:0.1; fill:none\" points=\"\n  193.936,69.0459 2352.76,69.0459 \n  \"/>\n<polyline clip-path=\"url(#clip930)\" style=\"stroke:#000000; stroke-linecap:round; stroke-linejoin:round; stroke-width:4; stroke-opacity:1; fill:none\" points=\"\n  193.936,1486.45 193.936,47.2441 \n  \"/>\n<polyline clip-path=\"url(#clip930)\" style=\"stroke:#000000; stroke-linecap:round; stroke-linejoin:round; stroke-width:4; stroke-opacity:1; fill:none\" points=\"\n  193.936,1321.31 212.834,1321.31 \n  \"/>\n<polyline clip-path=\"url(#clip930)\" style=\"stroke:#000000; stroke-linecap:round; stroke-linejoin:round; stroke-width:4; stroke-opacity:1; fill:none\" points=\"\n  193.936,1008.24 212.834,1008.24 \n  \"/>\n<polyline clip-path=\"url(#clip930)\" style=\"stroke:#000000; stroke-linecap:round; stroke-linejoin:round; stroke-width:4; stroke-opacity:1; fill:none\" points=\"\n  193.936,695.176 212.834,695.176 \n  \"/>\n<polyline clip-path=\"url(#clip930)\" style=\"stroke:#000000; stroke-linecap:round; stroke-linejoin:round; stroke-width:4; stroke-opacity:1; fill:none\" points=\"\n  193.936,382.111 212.834,382.111 \n  \"/>\n<polyline clip-path=\"url(#clip930)\" style=\"stroke:#000000; stroke-linecap:round; stroke-linejoin:round; stroke-width:4; stroke-opacity:1; fill:none\" points=\"\n  193.936,69.0459 212.834,69.0459 \n  \"/>\n<path clip-path=\"url(#clip930)\" d=\"M50.9921 1321.76 L80.6679 1321.76 L80.6679 1325.69 L50.9921 1325.69 L50.9921 1321.76 Z\" fill=\"#000000\" fill-rule=\"evenodd\" fill-opacity=\"1\" /><path clip-path=\"url(#clip930)\" d=\"M90.8067 1304.03 L109.163 1304.03 L109.163 1307.96 L95.0891 1307.96 L95.0891 1316.43 Q96.1076 1316.09 97.1261 1315.92 Q98.1447 1315.74 99.1632 1315.74 Q104.95 1315.74 108.33 1318.91 Q111.709 1322.08 111.709 1327.5 Q111.709 1333.08 108.237 1336.18 Q104.765 1339.26 98.4456 1339.26 Q96.2697 1339.26 94.0012 1338.89 Q91.7558 1338.52 89.3484 1337.78 L89.3484 1333.08 Q91.4317 1334.21 93.6539 1334.77 Q95.8761 1335.32 98.353 1335.32 Q102.358 1335.32 104.696 1333.22 Q107.033 1331.11 107.033 1327.5 Q107.033 1323.89 104.696 1321.78 Q102.358 1319.67 98.353 1319.67 Q96.478 1319.67 94.603 1320.09 Q92.7512 1320.51 90.8067 1321.39 L90.8067 1304.03 Z\" fill=\"#000000\" fill-rule=\"evenodd\" fill-opacity=\"1\" /><path clip-path=\"url(#clip930)\" d=\"M120.922 1332.71 L125.807 1332.71 L125.807 1338.59 L120.922 1338.59 L120.922 1332.71 Z\" fill=\"#000000\" fill-rule=\"evenodd\" fill-opacity=\"1\" /><path clip-path=\"url(#clip930)\" d=\"M145.992 1307.1 Q142.381 1307.1 140.552 1310.67 Q138.746 1314.21 138.746 1321.34 Q138.746 1328.45 140.552 1332.01 Q142.381 1335.55 145.992 1335.55 Q149.626 1335.55 151.431 1332.01 Q153.26 1328.45 153.26 1321.34 Q153.26 1314.21 151.431 1310.67 Q149.626 1307.1 145.992 1307.1 M145.992 1303.4 Q151.802 1303.4 154.857 1308.01 Q157.936 1312.59 157.936 1321.34 Q157.936 1330.07 154.857 1334.67 Q151.802 1339.26 145.992 1339.26 Q140.181 1339.26 137.103 1334.67 Q134.047 1330.07 134.047 1321.34 Q134.047 1312.59 137.103 1308.01 Q140.181 1303.4 145.992 1303.4 Z\" fill=\"#000000\" fill-rule=\"evenodd\" fill-opacity=\"1\" /><path clip-path=\"url(#clip930)\" d=\"M51.9875 1008.69 L81.6633 1008.69 L81.6633 1012.63 L51.9875 1012.63 L51.9875 1008.69 Z\" fill=\"#000000\" fill-rule=\"evenodd\" fill-opacity=\"1\" /><path clip-path=\"url(#clip930)\" d=\"M95.7836 1021.59 L112.103 1021.59 L112.103 1025.52 L90.1586 1025.52 L90.1586 1021.59 Q92.8206 1018.83 97.4039 1014.2 Q102.01 1009.55 103.191 1008.21 Q105.436 1005.68 106.316 1003.95 Q107.219 1002.19 107.219 1000.5 Q107.219 997.743 105.274 996.007 Q103.353 994.271 100.251 994.271 Q98.0521 994.271 95.5984 995.035 Q93.1678 995.799 90.3901 997.35 L90.3901 992.627 Q93.2141 991.493 95.6678 990.914 Q98.1215 990.336 100.159 990.336 Q105.529 990.336 108.723 993.021 Q111.918 995.706 111.918 1000.2 Q111.918 1002.33 111.108 1004.25 Q110.321 1006.15 108.214 1008.74 Q107.635 1009.41 104.534 1012.63 Q101.432 1015.82 95.7836 1021.59 Z\" fill=\"#000000\" fill-rule=\"evenodd\" fill-opacity=\"1\" /><path clip-path=\"url(#clip930)\" d=\"M121.918 1019.64 L126.802 1019.64 L126.802 1025.52 L121.918 1025.52 L121.918 1019.64 Z\" fill=\"#000000\" fill-rule=\"evenodd\" fill-opacity=\"1\" /><path clip-path=\"url(#clip930)\" d=\"M137.033 990.961 L155.39 990.961 L155.39 994.896 L141.316 994.896 L141.316 1003.37 Q142.334 1003.02 143.353 1002.86 Q144.371 1002.67 145.39 1002.67 Q151.177 1002.67 154.556 1005.84 Q157.936 1009.02 157.936 1014.43 Q157.936 1020.01 154.464 1023.11 Q150.992 1026.19 144.672 1026.19 Q142.496 1026.19 140.228 1025.82 Q137.982 1025.45 135.575 1024.71 L135.575 1020.01 Q137.658 1021.15 139.881 1021.7 Q142.103 1022.26 144.58 1022.26 Q148.584 1022.26 150.922 1020.15 Q153.26 1018.04 153.26 1014.43 Q153.26 1010.82 150.922 1008.72 Q148.584 1006.61 144.58 1006.61 Q142.705 1006.61 140.83 1007.03 Q138.978 1007.44 137.033 1008.32 L137.033 990.961 Z\" fill=\"#000000\" fill-rule=\"evenodd\" fill-opacity=\"1\" /><path clip-path=\"url(#clip930)\" d=\"M100.76 680.974 Q97.1493 680.974 95.3206 684.539 Q93.515 688.081 93.515 695.211 Q93.515 702.317 95.3206 705.882 Q97.1493 709.423 100.76 709.423 Q104.395 709.423 106.2 705.882 Q108.029 702.317 108.029 695.211 Q108.029 688.081 106.2 684.539 Q104.395 680.974 100.76 680.974 M100.76 677.271 Q106.571 677.271 109.626 681.877 Q112.705 686.461 112.705 695.211 Q112.705 703.937 109.626 708.544 Q106.571 713.127 100.76 713.127 Q94.9502 713.127 91.8715 708.544 Q88.816 703.937 88.816 695.211 Q88.816 686.461 91.8715 681.877 Q94.9502 677.271 100.76 677.271 Z\" fill=\"#000000\" fill-rule=\"evenodd\" fill-opacity=\"1\" /><path clip-path=\"url(#clip930)\" d=\"M120.922 706.576 L125.807 706.576 L125.807 712.456 L120.922 712.456 L120.922 706.576 Z\" fill=\"#000000\" fill-rule=\"evenodd\" fill-opacity=\"1\" /><path clip-path=\"url(#clip930)\" d=\"M145.992 680.974 Q142.381 680.974 140.552 684.539 Q138.746 688.081 138.746 695.211 Q138.746 702.317 140.552 705.882 Q142.381 709.423 145.992 709.423 Q149.626 709.423 151.431 705.882 Q153.26 702.317 153.26 695.211 Q153.26 688.081 151.431 684.539 Q149.626 680.974 145.992 680.974 M145.992 677.271 Q151.802 677.271 154.857 681.877 Q157.936 686.461 157.936 695.211 Q157.936 703.937 154.857 708.544 Q151.802 713.127 145.992 713.127 Q140.181 713.127 137.103 708.544 Q134.047 703.937 134.047 695.211 Q134.047 686.461 137.103 681.877 Q140.181 677.271 145.992 677.271 Z\" fill=\"#000000\" fill-rule=\"evenodd\" fill-opacity=\"1\" /><path clip-path=\"url(#clip930)\" d=\"M95.7836 395.456 L112.103 395.456 L112.103 399.391 L90.1586 399.391 L90.1586 395.456 Q92.8206 392.701 97.4039 388.071 Q102.01 383.419 103.191 382.076 Q105.436 379.553 106.316 377.817 Q107.219 376.058 107.219 374.368 Q107.219 371.613 105.274 369.877 Q103.353 368.141 100.251 368.141 Q98.0521 368.141 95.5984 368.905 Q93.1678 369.669 90.3901 371.22 L90.3901 366.497 Q93.2141 365.363 95.6678 364.785 Q98.1215 364.206 100.159 364.206 Q105.529 364.206 108.723 366.891 Q111.918 369.576 111.918 374.067 Q111.918 376.197 111.108 378.118 Q110.321 380.016 108.214 382.609 Q107.635 383.28 104.534 386.497 Q101.432 389.692 95.7836 395.456 Z\" fill=\"#000000\" fill-rule=\"evenodd\" fill-opacity=\"1\" /><path clip-path=\"url(#clip930)\" d=\"M121.918 393.511 L126.802 393.511 L126.802 399.391 L121.918 399.391 L121.918 393.511 Z\" fill=\"#000000\" fill-rule=\"evenodd\" fill-opacity=\"1\" /><path clip-path=\"url(#clip930)\" d=\"M137.033 364.831 L155.39 364.831 L155.39 368.766 L141.316 368.766 L141.316 377.238 Q142.334 376.891 143.353 376.729 Q144.371 376.544 145.39 376.544 Q151.177 376.544 154.556 379.715 Q157.936 382.886 157.936 388.303 Q157.936 393.882 154.464 396.983 Q150.992 400.062 144.672 400.062 Q142.496 400.062 140.228 399.692 Q137.982 399.321 135.575 398.581 L135.575 393.882 Q137.658 395.016 139.881 395.571 Q142.103 396.127 144.58 396.127 Q148.584 396.127 150.922 394.02 Q153.26 391.914 153.26 388.303 Q153.26 384.692 150.922 382.585 Q148.584 380.479 144.58 380.479 Q142.705 380.479 140.83 380.896 Q138.978 381.312 137.033 382.192 L137.033 364.831 Z\" fill=\"#000000\" fill-rule=\"evenodd\" fill-opacity=\"1\" /><path clip-path=\"url(#clip930)\" d=\"M90.8067 51.7659 L109.163 51.7659 L109.163 55.701 L95.0891 55.701 L95.0891 64.1732 Q96.1076 63.826 97.1261 63.664 Q98.1447 63.4788 99.1632 63.4788 Q104.95 63.4788 108.33 66.6501 Q111.709 69.8213 111.709 75.238 Q111.709 80.8166 108.237 83.9185 Q104.765 86.9972 98.4456 86.9972 Q96.2697 86.9972 94.0012 86.6268 Q91.7558 86.2564 89.3484 85.5157 L89.3484 80.8166 Q91.4317 81.9509 93.6539 82.5065 Q95.8761 83.062 98.353 83.062 Q102.358 83.062 104.696 80.9555 Q107.033 78.8491 107.033 75.238 Q107.033 71.6269 104.696 69.5204 Q102.358 67.4139 98.353 67.4139 Q96.478 67.4139 94.603 67.8306 Q92.7512 68.2473 90.8067 69.1269 L90.8067 51.7659 Z\" fill=\"#000000\" fill-rule=\"evenodd\" fill-opacity=\"1\" /><path clip-path=\"url(#clip930)\" d=\"M120.922 80.4463 L125.807 80.4463 L125.807 86.3259 L120.922 86.3259 L120.922 80.4463 Z\" fill=\"#000000\" fill-rule=\"evenodd\" fill-opacity=\"1\" /><path clip-path=\"url(#clip930)\" d=\"M145.992 54.8446 Q142.381 54.8446 140.552 58.4094 Q138.746 61.951 138.746 69.0806 Q138.746 76.187 140.552 79.7518 Q142.381 83.2935 145.992 83.2935 Q149.626 83.2935 151.431 79.7518 Q153.26 76.187 153.26 69.0806 Q153.26 61.951 151.431 58.4094 Q149.626 54.8446 145.992 54.8446 M145.992 51.1409 Q151.802 51.1409 154.857 55.7473 Q157.936 60.3306 157.936 69.0806 Q157.936 77.8074 154.857 82.4139 Q151.802 86.9972 145.992 86.9972 Q140.181 86.9972 137.103 82.4139 Q134.047 77.8074 134.047 69.0806 Q134.047 60.3306 137.103 55.7473 Q140.181 51.1409 145.992 51.1409 Z\" fill=\"#000000\" fill-rule=\"evenodd\" fill-opacity=\"1\" /><polyline clip-path=\"url(#clip932)\" style=\"stroke:#009af9; stroke-linecap:round; stroke-linejoin:round; stroke-width:4; stroke-opacity:1; fill:none\" points=\"\n  255.035,1445.72 481.326,87.9763 707.617,927.105 933.909,927.105 1160.2,87.9763 1386.49,1445.72 1612.78,87.9763 1839.07,927.105 2065.37,927.105 2291.66,87.9763 \n  \n  \"/>\n<path clip-path=\"url(#clip930)\" d=\"\nM1988.5 198.898 L2280.8 198.898 L2280.8 95.2176 L1988.5 95.2176  Z\n  \" fill=\"#ffffff\" fill-rule=\"evenodd\" fill-opacity=\"1\"/>\n<polyline clip-path=\"url(#clip930)\" style=\"stroke:#000000; stroke-linecap:round; stroke-linejoin:round; stroke-width:4; stroke-opacity:1; fill:none\" points=\"\n  1988.5,198.898 2280.8,198.898 2280.8,95.2176 1988.5,95.2176 1988.5,198.898 \n  \"/>\n<polyline clip-path=\"url(#clip930)\" style=\"stroke:#009af9; stroke-linecap:round; stroke-linejoin:round; stroke-width:4; stroke-opacity:1; fill:none\" points=\"\n  2012.48,147.058 2156.4,147.058 \n  \"/>\n<path clip-path=\"url(#clip930)\" d=\"M2194.23 166.745 Q2192.43 171.375 2190.72 172.787 Q2189 174.199 2186.13 174.199 L2182.73 174.199 L2182.73 170.634 L2185.23 170.634 Q2186.99 170.634 2187.96 169.8 Q2188.93 168.967 2190.11 165.865 L2190.88 163.921 L2180.39 138.412 L2184.91 138.412 L2193.01 158.689 L2201.11 138.412 L2205.62 138.412 L2194.23 166.745 Z\" fill=\"#000000\" fill-rule=\"evenodd\" fill-opacity=\"1\" /><path clip-path=\"url(#clip930)\" d=\"M2212.91 160.402 L2220.55 160.402 L2220.55 134.037 L2212.24 135.703 L2212.24 131.444 L2220.51 129.778 L2225.18 129.778 L2225.18 160.402 L2232.82 160.402 L2232.82 164.338 L2212.91 164.338 L2212.91 160.402 Z\" fill=\"#000000\" fill-rule=\"evenodd\" fill-opacity=\"1\" /></svg>\n",
      "text/html": [
       "<?xml version=\"1.0\" encoding=\"utf-8\"?>\n",
       "<svg xmlns=\"http://www.w3.org/2000/svg\" xmlns:xlink=\"http://www.w3.org/1999/xlink\" width=\"600\" height=\"400\" viewBox=\"0 0 2400 1600\">\n",
       "<defs>\n",
       "  <clipPath id=\"clip980\">\n",
       "    <rect x=\"0\" y=\"0\" width=\"2400\" height=\"1600\"/>\n",
       "  </clipPath>\n",
       "</defs>\n",
       "<path clip-path=\"url(#clip980)\" d=\"\n",
       "M0 1600 L2400 1600 L2400 0 L0 0  Z\n",
       "  \" fill=\"#ffffff\" fill-rule=\"evenodd\" fill-opacity=\"1\"/>\n",
       "<defs>\n",
       "  <clipPath id=\"clip981\">\n",
       "    <rect x=\"480\" y=\"0\" width=\"1681\" height=\"1600\"/>\n",
       "  </clipPath>\n",
       "</defs>\n",
       "<path clip-path=\"url(#clip980)\" d=\"\n",
       "M193.936 1486.45 L2352.76 1486.45 L2352.76 47.2441 L193.936 47.2441  Z\n",
       "  \" fill=\"#ffffff\" fill-rule=\"evenodd\" fill-opacity=\"1\"/>\n",
       "<defs>\n",
       "  <clipPath id=\"clip982\">\n",
       "    <rect x=\"193\" y=\"47\" width=\"2160\" height=\"1440\"/>\n",
       "  </clipPath>\n",
       "</defs>\n",
       "<polyline clip-path=\"url(#clip982)\" style=\"stroke:#000000; stroke-linecap:round; stroke-linejoin:round; stroke-width:2; stroke-opacity:0.1; fill:none\" points=\"\n",
       "  255.035,1486.45 255.035,47.2441 \n",
       "  \"/>\n",
       "<polyline clip-path=\"url(#clip982)\" style=\"stroke:#000000; stroke-linecap:round; stroke-linejoin:round; stroke-width:2; stroke-opacity:0.1; fill:none\" points=\"\n",
       "  820.763,1486.45 820.763,47.2441 \n",
       "  \"/>\n",
       "<polyline clip-path=\"url(#clip982)\" style=\"stroke:#000000; stroke-linecap:round; stroke-linejoin:round; stroke-width:2; stroke-opacity:0.1; fill:none\" points=\"\n",
       "  1386.49,1486.45 1386.49,47.2441 \n",
       "  \"/>\n",
       "<polyline clip-path=\"url(#clip982)\" style=\"stroke:#000000; stroke-linecap:round; stroke-linejoin:round; stroke-width:2; stroke-opacity:0.1; fill:none\" points=\"\n",
       "  1952.22,1486.45 1952.22,47.2441 \n",
       "  \"/>\n",
       "<polyline clip-path=\"url(#clip980)\" style=\"stroke:#000000; stroke-linecap:round; stroke-linejoin:round; stroke-width:4; stroke-opacity:1; fill:none\" points=\"\n",
       "  193.936,1486.45 2352.76,1486.45 \n",
       "  \"/>\n",
       "<polyline clip-path=\"url(#clip980)\" style=\"stroke:#000000; stroke-linecap:round; stroke-linejoin:round; stroke-width:4; stroke-opacity:1; fill:none\" points=\"\n",
       "  255.035,1486.45 255.035,1467.55 \n",
       "  \"/>\n",
       "<polyline clip-path=\"url(#clip980)\" style=\"stroke:#000000; stroke-linecap:round; stroke-linejoin:round; stroke-width:4; stroke-opacity:1; fill:none\" points=\"\n",
       "  820.763,1486.45 820.763,1467.55 \n",
       "  \"/>\n",
       "<polyline clip-path=\"url(#clip980)\" style=\"stroke:#000000; stroke-linecap:round; stroke-linejoin:round; stroke-width:4; stroke-opacity:1; fill:none\" points=\"\n",
       "  1386.49,1486.45 1386.49,1467.55 \n",
       "  \"/>\n",
       "<polyline clip-path=\"url(#clip980)\" style=\"stroke:#000000; stroke-linecap:round; stroke-linejoin:round; stroke-width:4; stroke-opacity:1; fill:none\" points=\"\n",
       "  1952.22,1486.45 1952.22,1467.55 \n",
       "  \"/>\n",
       "<path clip-path=\"url(#clip980)\" d=\"M232.419 1517.37 Q228.808 1517.37 226.979 1520.93 Q225.174 1524.47 225.174 1531.6 Q225.174 1538.71 226.979 1542.27 Q228.808 1545.82 232.419 1545.82 Q236.053 1545.82 237.859 1542.27 Q239.688 1538.71 239.688 1531.6 Q239.688 1524.47 237.859 1520.93 Q236.053 1517.37 232.419 1517.37 M232.419 1513.66 Q238.229 1513.66 241.285 1518.27 Q244.363 1522.85 244.363 1531.6 Q244.363 1540.33 241.285 1544.94 Q238.229 1549.52 232.419 1549.52 Q226.609 1549.52 223.53 1544.94 Q220.475 1540.33 220.475 1531.6 Q220.475 1522.85 223.53 1518.27 Q226.609 1513.66 232.419 1513.66 Z\" fill=\"#000000\" fill-rule=\"evenodd\" fill-opacity=\"1\" /><path clip-path=\"url(#clip980)\" d=\"M252.581 1542.97 L257.465 1542.97 L257.465 1548.85 L252.581 1548.85 L252.581 1542.97 Z\" fill=\"#000000\" fill-rule=\"evenodd\" fill-opacity=\"1\" /><path clip-path=\"url(#clip980)\" d=\"M277.65 1517.37 Q274.039 1517.37 272.211 1520.93 Q270.405 1524.47 270.405 1531.6 Q270.405 1538.71 272.211 1542.27 Q274.039 1545.82 277.65 1545.82 Q281.285 1545.82 283.09 1542.27 Q284.919 1538.71 284.919 1531.6 Q284.919 1524.47 283.09 1520.93 Q281.285 1517.37 277.65 1517.37 M277.65 1513.66 Q283.46 1513.66 286.516 1518.27 Q289.595 1522.85 289.595 1531.6 Q289.595 1540.33 286.516 1544.94 Q283.46 1549.52 277.65 1549.52 Q271.84 1549.52 268.761 1544.94 Q265.706 1540.33 265.706 1531.6 Q265.706 1522.85 268.761 1518.27 Q271.84 1513.66 277.65 1513.66 Z\" fill=\"#000000\" fill-rule=\"evenodd\" fill-opacity=\"1\" /><path clip-path=\"url(#clip980)\" d=\"M798.645 1517.37 Q795.034 1517.37 793.205 1520.93 Q791.4 1524.47 791.4 1531.6 Q791.4 1538.71 793.205 1542.27 Q795.034 1545.82 798.645 1545.82 Q802.279 1545.82 804.085 1542.27 Q805.914 1538.71 805.914 1531.6 Q805.914 1524.47 804.085 1520.93 Q802.279 1517.37 798.645 1517.37 M798.645 1513.66 Q804.455 1513.66 807.511 1518.27 Q810.59 1522.85 810.59 1531.6 Q810.59 1540.33 807.511 1544.94 Q804.455 1549.52 798.645 1549.52 Q792.835 1549.52 789.756 1544.94 Q786.701 1540.33 786.701 1531.6 Q786.701 1522.85 789.756 1518.27 Q792.835 1513.66 798.645 1513.66 Z\" fill=\"#000000\" fill-rule=\"evenodd\" fill-opacity=\"1\" /><path clip-path=\"url(#clip980)\" d=\"M818.807 1542.97 L823.691 1542.97 L823.691 1548.85 L818.807 1548.85 L818.807 1542.97 Z\" fill=\"#000000\" fill-rule=\"evenodd\" fill-opacity=\"1\" /><path clip-path=\"url(#clip980)\" d=\"M833.923 1514.29 L852.279 1514.29 L852.279 1518.22 L838.205 1518.22 L838.205 1526.7 Q839.224 1526.35 840.242 1526.19 Q841.261 1526 842.279 1526 Q848.066 1526 851.446 1529.17 Q854.825 1532.34 854.825 1537.76 Q854.825 1543.34 851.353 1546.44 Q847.881 1549.52 841.562 1549.52 Q839.386 1549.52 837.117 1549.15 Q834.872 1548.78 832.464 1548.04 L832.464 1543.34 Q834.548 1544.47 836.77 1545.03 Q838.992 1545.58 841.469 1545.58 Q845.474 1545.58 847.812 1543.48 Q850.15 1541.37 850.15 1537.76 Q850.15 1534.15 847.812 1532.04 Q845.474 1529.94 841.469 1529.94 Q839.594 1529.94 837.719 1530.35 Q835.867 1530.77 833.923 1531.65 L833.923 1514.29 Z\" fill=\"#000000\" fill-rule=\"evenodd\" fill-opacity=\"1\" /><path clip-path=\"url(#clip980)\" d=\"M1353.64 1544.91 L1361.28 1544.91 L1361.28 1518.55 L1352.97 1520.21 L1352.97 1515.95 L1361.24 1514.29 L1365.91 1514.29 L1365.91 1544.91 L1373.55 1544.91 L1373.55 1548.85 L1353.64 1548.85 L1353.64 1544.91 Z\" fill=\"#000000\" fill-rule=\"evenodd\" fill-opacity=\"1\" /><path clip-path=\"url(#clip980)\" d=\"M1383 1542.97 L1387.88 1542.97 L1387.88 1548.85 L1383 1548.85 L1383 1542.97 Z\" fill=\"#000000\" fill-rule=\"evenodd\" fill-opacity=\"1\" /><path clip-path=\"url(#clip980)\" d=\"M1408.07 1517.37 Q1404.45 1517.37 1402.63 1520.93 Q1400.82 1524.47 1400.82 1531.6 Q1400.82 1538.71 1402.63 1542.27 Q1404.45 1545.82 1408.07 1545.82 Q1411.7 1545.82 1413.51 1542.27 Q1415.33 1538.71 1415.33 1531.6 Q1415.33 1524.47 1413.51 1520.93 Q1411.7 1517.37 1408.07 1517.37 M1408.07 1513.66 Q1413.88 1513.66 1416.93 1518.27 Q1420.01 1522.85 1420.01 1531.6 Q1420.01 1540.33 1416.93 1544.94 Q1413.88 1549.52 1408.07 1549.52 Q1402.26 1549.52 1399.18 1544.94 Q1396.12 1540.33 1396.12 1531.6 Q1396.12 1522.85 1399.18 1518.27 Q1402.26 1513.66 1408.07 1513.66 Z\" fill=\"#000000\" fill-rule=\"evenodd\" fill-opacity=\"1\" /><path clip-path=\"url(#clip980)\" d=\"M1919.87 1544.91 L1927.51 1544.91 L1927.51 1518.55 L1919.2 1520.21 L1919.2 1515.95 L1927.46 1514.29 L1932.14 1514.29 L1932.14 1544.91 L1939.78 1544.91 L1939.78 1548.85 L1919.87 1548.85 L1919.87 1544.91 Z\" fill=\"#000000\" fill-rule=\"evenodd\" fill-opacity=\"1\" /><path clip-path=\"url(#clip980)\" d=\"M1949.22 1542.97 L1954.11 1542.97 L1954.11 1548.85 L1949.22 1548.85 L1949.22 1542.97 Z\" fill=\"#000000\" fill-rule=\"evenodd\" fill-opacity=\"1\" /><path clip-path=\"url(#clip980)\" d=\"M1964.34 1514.29 L1982.69 1514.29 L1982.69 1518.22 L1968.62 1518.22 L1968.62 1526.7 Q1969.64 1526.35 1970.66 1526.19 Q1971.68 1526 1972.69 1526 Q1978.48 1526 1981.86 1529.17 Q1985.24 1532.34 1985.24 1537.76 Q1985.24 1543.34 1981.77 1546.44 Q1978.3 1549.52 1971.98 1549.52 Q1969.8 1549.52 1967.53 1549.15 Q1965.29 1548.78 1962.88 1548.04 L1962.88 1543.34 Q1964.96 1544.47 1967.19 1545.03 Q1969.41 1545.58 1971.88 1545.58 Q1975.89 1545.58 1978.23 1543.48 Q1980.56 1541.37 1980.56 1537.76 Q1980.56 1534.15 1978.23 1532.04 Q1975.89 1529.94 1971.88 1529.94 Q1970.01 1529.94 1968.13 1530.35 Q1966.28 1530.77 1964.34 1531.65 L1964.34 1514.29 Z\" fill=\"#000000\" fill-rule=\"evenodd\" fill-opacity=\"1\" /><polyline clip-path=\"url(#clip982)\" style=\"stroke:#000000; stroke-linecap:round; stroke-linejoin:round; stroke-width:2; stroke-opacity:0.1; fill:none\" points=\"\n",
       "  193.936,1321.31 2352.76,1321.31 \n",
       "  \"/>\n",
       "<polyline clip-path=\"url(#clip982)\" style=\"stroke:#000000; stroke-linecap:round; stroke-linejoin:round; stroke-width:2; stroke-opacity:0.1; fill:none\" points=\"\n",
       "  193.936,1008.24 2352.76,1008.24 \n",
       "  \"/>\n",
       "<polyline clip-path=\"url(#clip982)\" style=\"stroke:#000000; stroke-linecap:round; stroke-linejoin:round; stroke-width:2; stroke-opacity:0.1; fill:none\" points=\"\n",
       "  193.936,695.176 2352.76,695.176 \n",
       "  \"/>\n",
       "<polyline clip-path=\"url(#clip982)\" style=\"stroke:#000000; stroke-linecap:round; stroke-linejoin:round; stroke-width:2; stroke-opacity:0.1; fill:none\" points=\"\n",
       "  193.936,382.111 2352.76,382.111 \n",
       "  \"/>\n",
       "<polyline clip-path=\"url(#clip982)\" style=\"stroke:#000000; stroke-linecap:round; stroke-linejoin:round; stroke-width:2; stroke-opacity:0.1; fill:none\" points=\"\n",
       "  193.936,69.0459 2352.76,69.0459 \n",
       "  \"/>\n",
       "<polyline clip-path=\"url(#clip980)\" style=\"stroke:#000000; stroke-linecap:round; stroke-linejoin:round; stroke-width:4; stroke-opacity:1; fill:none\" points=\"\n",
       "  193.936,1486.45 193.936,47.2441 \n",
       "  \"/>\n",
       "<polyline clip-path=\"url(#clip980)\" style=\"stroke:#000000; stroke-linecap:round; stroke-linejoin:round; stroke-width:4; stroke-opacity:1; fill:none\" points=\"\n",
       "  193.936,1321.31 212.834,1321.31 \n",
       "  \"/>\n",
       "<polyline clip-path=\"url(#clip980)\" style=\"stroke:#000000; stroke-linecap:round; stroke-linejoin:round; stroke-width:4; stroke-opacity:1; fill:none\" points=\"\n",
       "  193.936,1008.24 212.834,1008.24 \n",
       "  \"/>\n",
       "<polyline clip-path=\"url(#clip980)\" style=\"stroke:#000000; stroke-linecap:round; stroke-linejoin:round; stroke-width:4; stroke-opacity:1; fill:none\" points=\"\n",
       "  193.936,695.176 212.834,695.176 \n",
       "  \"/>\n",
       "<polyline clip-path=\"url(#clip980)\" style=\"stroke:#000000; stroke-linecap:round; stroke-linejoin:round; stroke-width:4; stroke-opacity:1; fill:none\" points=\"\n",
       "  193.936,382.111 212.834,382.111 \n",
       "  \"/>\n",
       "<polyline clip-path=\"url(#clip980)\" style=\"stroke:#000000; stroke-linecap:round; stroke-linejoin:round; stroke-width:4; stroke-opacity:1; fill:none\" points=\"\n",
       "  193.936,69.0459 212.834,69.0459 \n",
       "  \"/>\n",
       "<path clip-path=\"url(#clip980)\" d=\"M50.9921 1321.76 L80.6679 1321.76 L80.6679 1325.69 L50.9921 1325.69 L50.9921 1321.76 Z\" fill=\"#000000\" fill-rule=\"evenodd\" fill-opacity=\"1\" /><path clip-path=\"url(#clip980)\" d=\"M90.8067 1304.03 L109.163 1304.03 L109.163 1307.96 L95.0891 1307.96 L95.0891 1316.43 Q96.1076 1316.09 97.1261 1315.92 Q98.1447 1315.74 99.1632 1315.74 Q104.95 1315.74 108.33 1318.91 Q111.709 1322.08 111.709 1327.5 Q111.709 1333.08 108.237 1336.18 Q104.765 1339.26 98.4456 1339.26 Q96.2697 1339.26 94.0012 1338.89 Q91.7558 1338.52 89.3484 1337.78 L89.3484 1333.08 Q91.4317 1334.21 93.6539 1334.77 Q95.8761 1335.32 98.353 1335.32 Q102.358 1335.32 104.696 1333.22 Q107.033 1331.11 107.033 1327.5 Q107.033 1323.89 104.696 1321.78 Q102.358 1319.67 98.353 1319.67 Q96.478 1319.67 94.603 1320.09 Q92.7512 1320.51 90.8067 1321.39 L90.8067 1304.03 Z\" fill=\"#000000\" fill-rule=\"evenodd\" fill-opacity=\"1\" /><path clip-path=\"url(#clip980)\" d=\"M120.922 1332.71 L125.807 1332.71 L125.807 1338.59 L120.922 1338.59 L120.922 1332.71 Z\" fill=\"#000000\" fill-rule=\"evenodd\" fill-opacity=\"1\" /><path clip-path=\"url(#clip980)\" d=\"M145.992 1307.1 Q142.381 1307.1 140.552 1310.67 Q138.746 1314.21 138.746 1321.34 Q138.746 1328.45 140.552 1332.01 Q142.381 1335.55 145.992 1335.55 Q149.626 1335.55 151.431 1332.01 Q153.26 1328.45 153.26 1321.34 Q153.26 1314.21 151.431 1310.67 Q149.626 1307.1 145.992 1307.1 M145.992 1303.4 Q151.802 1303.4 154.857 1308.01 Q157.936 1312.59 157.936 1321.34 Q157.936 1330.07 154.857 1334.67 Q151.802 1339.26 145.992 1339.26 Q140.181 1339.26 137.103 1334.67 Q134.047 1330.07 134.047 1321.34 Q134.047 1312.59 137.103 1308.01 Q140.181 1303.4 145.992 1303.4 Z\" fill=\"#000000\" fill-rule=\"evenodd\" fill-opacity=\"1\" /><path clip-path=\"url(#clip980)\" d=\"M51.9875 1008.69 L81.6633 1008.69 L81.6633 1012.63 L51.9875 1012.63 L51.9875 1008.69 Z\" fill=\"#000000\" fill-rule=\"evenodd\" fill-opacity=\"1\" /><path clip-path=\"url(#clip980)\" d=\"M95.7836 1021.59 L112.103 1021.59 L112.103 1025.52 L90.1586 1025.52 L90.1586 1021.59 Q92.8206 1018.83 97.4039 1014.2 Q102.01 1009.55 103.191 1008.21 Q105.436 1005.68 106.316 1003.95 Q107.219 1002.19 107.219 1000.5 Q107.219 997.743 105.274 996.007 Q103.353 994.271 100.251 994.271 Q98.0521 994.271 95.5984 995.035 Q93.1678 995.799 90.3901 997.35 L90.3901 992.627 Q93.2141 991.493 95.6678 990.914 Q98.1215 990.336 100.159 990.336 Q105.529 990.336 108.723 993.021 Q111.918 995.706 111.918 1000.2 Q111.918 1002.33 111.108 1004.25 Q110.321 1006.15 108.214 1008.74 Q107.635 1009.41 104.534 1012.63 Q101.432 1015.82 95.7836 1021.59 Z\" fill=\"#000000\" fill-rule=\"evenodd\" fill-opacity=\"1\" /><path clip-path=\"url(#clip980)\" d=\"M121.918 1019.64 L126.802 1019.64 L126.802 1025.52 L121.918 1025.52 L121.918 1019.64 Z\" fill=\"#000000\" fill-rule=\"evenodd\" fill-opacity=\"1\" /><path clip-path=\"url(#clip980)\" d=\"M137.033 990.961 L155.39 990.961 L155.39 994.896 L141.316 994.896 L141.316 1003.37 Q142.334 1003.02 143.353 1002.86 Q144.371 1002.67 145.39 1002.67 Q151.177 1002.67 154.556 1005.84 Q157.936 1009.02 157.936 1014.43 Q157.936 1020.01 154.464 1023.11 Q150.992 1026.19 144.672 1026.19 Q142.496 1026.19 140.228 1025.82 Q137.982 1025.45 135.575 1024.71 L135.575 1020.01 Q137.658 1021.15 139.881 1021.7 Q142.103 1022.26 144.58 1022.26 Q148.584 1022.26 150.922 1020.15 Q153.26 1018.04 153.26 1014.43 Q153.26 1010.82 150.922 1008.72 Q148.584 1006.61 144.58 1006.61 Q142.705 1006.61 140.83 1007.03 Q138.978 1007.44 137.033 1008.32 L137.033 990.961 Z\" fill=\"#000000\" fill-rule=\"evenodd\" fill-opacity=\"1\" /><path clip-path=\"url(#clip980)\" d=\"M100.76 680.974 Q97.1493 680.974 95.3206 684.539 Q93.515 688.081 93.515 695.211 Q93.515 702.317 95.3206 705.882 Q97.1493 709.423 100.76 709.423 Q104.395 709.423 106.2 705.882 Q108.029 702.317 108.029 695.211 Q108.029 688.081 106.2 684.539 Q104.395 680.974 100.76 680.974 M100.76 677.271 Q106.571 677.271 109.626 681.877 Q112.705 686.461 112.705 695.211 Q112.705 703.937 109.626 708.544 Q106.571 713.127 100.76 713.127 Q94.9502 713.127 91.8715 708.544 Q88.816 703.937 88.816 695.211 Q88.816 686.461 91.8715 681.877 Q94.9502 677.271 100.76 677.271 Z\" fill=\"#000000\" fill-rule=\"evenodd\" fill-opacity=\"1\" /><path clip-path=\"url(#clip980)\" d=\"M120.922 706.576 L125.807 706.576 L125.807 712.456 L120.922 712.456 L120.922 706.576 Z\" fill=\"#000000\" fill-rule=\"evenodd\" fill-opacity=\"1\" /><path clip-path=\"url(#clip980)\" d=\"M145.992 680.974 Q142.381 680.974 140.552 684.539 Q138.746 688.081 138.746 695.211 Q138.746 702.317 140.552 705.882 Q142.381 709.423 145.992 709.423 Q149.626 709.423 151.431 705.882 Q153.26 702.317 153.26 695.211 Q153.26 688.081 151.431 684.539 Q149.626 680.974 145.992 680.974 M145.992 677.271 Q151.802 677.271 154.857 681.877 Q157.936 686.461 157.936 695.211 Q157.936 703.937 154.857 708.544 Q151.802 713.127 145.992 713.127 Q140.181 713.127 137.103 708.544 Q134.047 703.937 134.047 695.211 Q134.047 686.461 137.103 681.877 Q140.181 677.271 145.992 677.271 Z\" fill=\"#000000\" fill-rule=\"evenodd\" fill-opacity=\"1\" /><path clip-path=\"url(#clip980)\" d=\"M95.7836 395.456 L112.103 395.456 L112.103 399.391 L90.1586 399.391 L90.1586 395.456 Q92.8206 392.701 97.4039 388.071 Q102.01 383.419 103.191 382.076 Q105.436 379.553 106.316 377.817 Q107.219 376.058 107.219 374.368 Q107.219 371.613 105.274 369.877 Q103.353 368.141 100.251 368.141 Q98.0521 368.141 95.5984 368.905 Q93.1678 369.669 90.3901 371.22 L90.3901 366.497 Q93.2141 365.363 95.6678 364.785 Q98.1215 364.206 100.159 364.206 Q105.529 364.206 108.723 366.891 Q111.918 369.576 111.918 374.067 Q111.918 376.197 111.108 378.118 Q110.321 380.016 108.214 382.609 Q107.635 383.28 104.534 386.497 Q101.432 389.692 95.7836 395.456 Z\" fill=\"#000000\" fill-rule=\"evenodd\" fill-opacity=\"1\" /><path clip-path=\"url(#clip980)\" d=\"M121.918 393.511 L126.802 393.511 L126.802 399.391 L121.918 399.391 L121.918 393.511 Z\" fill=\"#000000\" fill-rule=\"evenodd\" fill-opacity=\"1\" /><path clip-path=\"url(#clip980)\" d=\"M137.033 364.831 L155.39 364.831 L155.39 368.766 L141.316 368.766 L141.316 377.238 Q142.334 376.891 143.353 376.729 Q144.371 376.544 145.39 376.544 Q151.177 376.544 154.556 379.715 Q157.936 382.886 157.936 388.303 Q157.936 393.882 154.464 396.983 Q150.992 400.062 144.672 400.062 Q142.496 400.062 140.228 399.692 Q137.982 399.321 135.575 398.581 L135.575 393.882 Q137.658 395.016 139.881 395.571 Q142.103 396.127 144.58 396.127 Q148.584 396.127 150.922 394.02 Q153.26 391.914 153.26 388.303 Q153.26 384.692 150.922 382.585 Q148.584 380.479 144.58 380.479 Q142.705 380.479 140.83 380.896 Q138.978 381.312 137.033 382.192 L137.033 364.831 Z\" fill=\"#000000\" fill-rule=\"evenodd\" fill-opacity=\"1\" /><path clip-path=\"url(#clip980)\" d=\"M90.8067 51.7659 L109.163 51.7659 L109.163 55.701 L95.0891 55.701 L95.0891 64.1732 Q96.1076 63.826 97.1261 63.664 Q98.1447 63.4788 99.1632 63.4788 Q104.95 63.4788 108.33 66.6501 Q111.709 69.8213 111.709 75.238 Q111.709 80.8166 108.237 83.9185 Q104.765 86.9972 98.4456 86.9972 Q96.2697 86.9972 94.0012 86.6268 Q91.7558 86.2564 89.3484 85.5157 L89.3484 80.8166 Q91.4317 81.9509 93.6539 82.5065 Q95.8761 83.062 98.353 83.062 Q102.358 83.062 104.696 80.9555 Q107.033 78.8491 107.033 75.238 Q107.033 71.6269 104.696 69.5204 Q102.358 67.4139 98.353 67.4139 Q96.478 67.4139 94.603 67.8306 Q92.7512 68.2473 90.8067 69.1269 L90.8067 51.7659 Z\" fill=\"#000000\" fill-rule=\"evenodd\" fill-opacity=\"1\" /><path clip-path=\"url(#clip980)\" d=\"M120.922 80.4463 L125.807 80.4463 L125.807 86.3259 L120.922 86.3259 L120.922 80.4463 Z\" fill=\"#000000\" fill-rule=\"evenodd\" fill-opacity=\"1\" /><path clip-path=\"url(#clip980)\" d=\"M145.992 54.8446 Q142.381 54.8446 140.552 58.4094 Q138.746 61.951 138.746 69.0806 Q138.746 76.187 140.552 79.7518 Q142.381 83.2935 145.992 83.2935 Q149.626 83.2935 151.431 79.7518 Q153.26 76.187 153.26 69.0806 Q153.26 61.951 151.431 58.4094 Q149.626 54.8446 145.992 54.8446 M145.992 51.1409 Q151.802 51.1409 154.857 55.7473 Q157.936 60.3306 157.936 69.0806 Q157.936 77.8074 154.857 82.4139 Q151.802 86.9972 145.992 86.9972 Q140.181 86.9972 137.103 82.4139 Q134.047 77.8074 134.047 69.0806 Q134.047 60.3306 137.103 55.7473 Q140.181 51.1409 145.992 51.1409 Z\" fill=\"#000000\" fill-rule=\"evenodd\" fill-opacity=\"1\" /><polyline clip-path=\"url(#clip982)\" style=\"stroke:#009af9; stroke-linecap:round; stroke-linejoin:round; stroke-width:4; stroke-opacity:1; fill:none\" points=\"\n",
       "  255.035,1445.72 481.326,87.9763 707.617,927.105 933.909,927.105 1160.2,87.9763 1386.49,1445.72 1612.78,87.9763 1839.07,927.105 2065.37,927.105 2291.66,87.9763 \n",
       "  \n",
       "  \"/>\n",
       "<path clip-path=\"url(#clip980)\" d=\"\n",
       "M1988.5 198.898 L2280.8 198.898 L2280.8 95.2176 L1988.5 95.2176  Z\n",
       "  \" fill=\"#ffffff\" fill-rule=\"evenodd\" fill-opacity=\"1\"/>\n",
       "<polyline clip-path=\"url(#clip980)\" style=\"stroke:#000000; stroke-linecap:round; stroke-linejoin:round; stroke-width:4; stroke-opacity:1; fill:none\" points=\"\n",
       "  1988.5,198.898 2280.8,198.898 2280.8,95.2176 1988.5,95.2176 1988.5,198.898 \n",
       "  \"/>\n",
       "<polyline clip-path=\"url(#clip980)\" style=\"stroke:#009af9; stroke-linecap:round; stroke-linejoin:round; stroke-width:4; stroke-opacity:1; fill:none\" points=\"\n",
       "  2012.48,147.058 2156.4,147.058 \n",
       "  \"/>\n",
       "<path clip-path=\"url(#clip980)\" d=\"M2194.23 166.745 Q2192.43 171.375 2190.72 172.787 Q2189 174.199 2186.13 174.199 L2182.73 174.199 L2182.73 170.634 L2185.23 170.634 Q2186.99 170.634 2187.96 169.8 Q2188.93 168.967 2190.11 165.865 L2190.88 163.921 L2180.39 138.412 L2184.91 138.412 L2193.01 158.689 L2201.11 138.412 L2205.62 138.412 L2194.23 166.745 Z\" fill=\"#000000\" fill-rule=\"evenodd\" fill-opacity=\"1\" /><path clip-path=\"url(#clip980)\" d=\"M2212.91 160.402 L2220.55 160.402 L2220.55 134.037 L2212.24 135.703 L2212.24 131.444 L2220.51 129.778 L2225.18 129.778 L2225.18 160.402 L2232.82 160.402 L2232.82 164.338 L2212.91 164.338 L2212.91 160.402 Z\" fill=\"#000000\" fill-rule=\"evenodd\" fill-opacity=\"1\" /></svg>\n"
      ]
     },
     "metadata": {},
     "output_type": "display_data"
    }
   ],
   "source": [
    "size(Dx)\n",
    "\n",
    "u = sin.(k[1]*xv)\n",
    "du = similar(u)\n",
    "mul!(du,Dx,u)\n",
    "\n",
    "plot(xv,du)"
   ]
  },
  {
   "cell_type": "code",
   "execution_count": 7,
   "metadata": {},
   "outputs": [],
   "source": [
    "grad_sbp_Ea .= 0.0\n",
    "\n",
    "for l in 1:2\n",
    "    #for i in 1:J[1]\n",
    "        for j in 1:J[2]\n",
    "            mul!(view(grad_sbp_Ea,1,l,:,j), Dx, view(Ea,l,:,j),\n",
    "            one(eltype(grad_sbp_Ea)), one(eltype(grad_sbp_Ea)))\n",
    "        end\n",
    "    #end\n",
    "end\n",
    "\n",
    "for l in 1:2\n",
    "    for i in 1:J[1]\n",
    "        #for j in 1:J[2]\n",
    "            mul!(view(grad_sbp_Ea, 2,l,i,:), Dy, view(Ea,l,i,:),\n",
    "            one(eltype(grad_sbp_Ea)), one(eltype(grad_sbp_Ea)))\n",
    "        #end\n",
    "    end\n",
    "end"
   ]
  },
  {
   "cell_type": "code",
   "execution_count": 8,
   "metadata": {},
   "outputs": [
    {
     "data": {
      "text/plain": [
       "248.43166307527616"
      ]
     },
     "metadata": {},
     "output_type": "display_data"
    }
   ],
   "source": [
    "norm(grad_sbp_Ea - grad_Ea)"
   ]
  },
  {
   "attachments": {},
   "cell_type": "markdown",
   "metadata": {},
   "source": [
    "### Array of vectors version (actually not needed now because we only need the y derivativ)"
   ]
  },
  {
   "cell_type": "code",
   "execution_count": 9,
   "metadata": {},
   "outputs": [
    {
     "data": {
      "text/plain": [
       "10×20 ArrayOfSimilarVectors{Float64, 2, 3, Array{Float64, 3}}:\n",
       " [-0.0, 0.0]  [-0.0, 0.0]                  …  [0.0, -0.0]\n",
       " [0.0, -0.0]  [0.475528, -0.475528]           [-0.475528, 0.475528]\n",
       " [-0.0, 0.0]  [-0.769421, 0.769421]           [0.769421, -0.769421]\n",
       " [0.0, -0.0]  [0.769421, -0.769421]           [-0.769421, 0.769421]\n",
       " [-0.0, 0.0]  [-0.475528, 0.475528]           [0.475528, -0.475528]\n",
       " [0.0, -0.0]  [5.94456e-16, -5.94456e-16]  …  [-5.94456e-16, 5.94456e-16]\n",
       " [0.0, -0.0]  [0.475528, -0.475528]           [-0.475528, 0.475528]\n",
       " [-0.0, 0.0]  [-0.769421, 0.769421]           [0.769421, -0.769421]\n",
       " [0.0, -0.0]  [0.769421, -0.769421]           [-0.769421, 0.769421]\n",
       " [-0.0, 0.0]  [-0.475528, 0.475528]           [0.475528, -0.475528]"
      ]
     },
     "metadata": {},
     "output_type": "display_data"
    }
   ],
   "source": [
    "Ev = nestedview(Ea,1)"
   ]
  },
  {
   "cell_type": "code",
   "execution_count": 10,
   "metadata": {},
   "outputs": [
    {
     "ename": "MethodError",
     "evalue": "MethodError: Cannot `convert` an object of type Float64 to an object of type Vector{Float64}\nClosest candidates are:\n  convert(::Type{T}, !Matched::Factorization) where T<:AbstractArray at /Applications/Julia-1.8.1.app/Contents/Resources/julia/share/julia/stdlib/v1.8/LinearAlgebra/src/factorization.jl:58\n  convert(::Type{Array{T, N}}, !Matched::StaticArraysCore.SizedArray{S, T, N, N, Array{T, N}}) where {S, T, N} at ~/.julia/packages/StaticArrays/G1WTP/src/SizedArray.jl:88\n  convert(::Type{Array{T, N}}, !Matched::StaticArraysCore.SizedArray{S, T, N, M, TData} where {M, TData<:AbstractArray{T, M}}) where {T, S, N} at ~/.julia/packages/StaticArrays/G1WTP/src/SizedArray.jl:82\n  ...",
     "output_type": "error",
     "traceback": [
      "MethodError: Cannot `convert` an object of type Float64 to an object of type Vector{Float64}\n",
      "Closest candidates are:\n",
      "  convert(::Type{T}, !Matched::Factorization) where T<:AbstractArray at /Applications/Julia-1.8.1.app/Contents/Resources/julia/share/julia/stdlib/v1.8/LinearAlgebra/src/factorization.jl:58\n",
      "  convert(::Type{Array{T, N}}, !Matched::StaticArraysCore.SizedArray{S, T, N, N, Array{T, N}}) where {S, T, N} at ~/.julia/packages/StaticArrays/G1WTP/src/SizedArray.jl:88\n",
      "  convert(::Type{Array{T, N}}, !Matched::StaticArraysCore.SizedArray{S, T, N, M, TData} where {M, TData<:AbstractArray{T, M}}) where {T, S, N} at ~/.julia/packages/StaticArrays/G1WTP/src/SizedArray.jl:82\n",
      "  ...\n",
      "\n",
      "Stacktrace:\n",
      " [1] fill!(A::ArrayOfSimilarVectors{Float64, 2, 3, Array{Float64, 3}}, x::Float64)\n",
      "   @ Base ./multidimensional.jl:1098\n",
      " [2] copyto!\n",
      "   @ ./broadcast.jl:921 [inlined]\n",
      " [3] materialize!\n",
      "   @ ./broadcast.jl:871 [inlined]\n",
      " [4] materialize!(dest::ArrayOfSimilarVectors{Float64, 2, 3, Array{Float64, 3}}, bc::Base.Broadcast.Broadcasted{Base.Broadcast.DefaultArrayStyle{0}, Nothing, typeof(identity), Tuple{Float64}})\n",
      "   @ Base.Broadcast ./broadcast.jl:868\n",
      " [5] top-level scope\n",
      "   @ ~/Julia/Maxwell/2D/scratch_2d.ipynb:3"
     ]
    }
   ],
   "source": [
    "grad_sbp_Ev_x = similar(Ev)\n",
    "grad_sbp_Ev_y = similar(Ev)\n",
    "grad_sbp_Ev_x .= 0.0\n",
    "grad_sbp_Ev_y .= 0.0\n",
    "\n",
    "#for l in 1:2\n",
    "    #for i in 1:J[1]\n",
    "        for j in 1:J[2]\n",
    "            mul!(view(grad_sbp_Ev_x,:,j), Dx, view(Ev,:,j),\n",
    "            one(eltype(grad_sbp_Ev_x)), one(eltype(grad_sbp_Ev_x)))\n",
    "        end\n",
    "    #end\n",
    "#end\n",
    "\n",
    "#for l in 1:2\n",
    "    for i in 1:J[1]\n",
    "        #for j in 1:J[2]\n",
    "            mul!(view(grad_sbp_Ev_y,i,:), Dy, view(Ev,i,:),\n",
    "            one(eltype(grad_sbp_Ev_y)), one(eltype(grad_sbp_Ev_y)))\n",
    "        #end\n",
    "    end\n",
    "#end"
   ]
  },
  {
   "cell_type": "code",
   "execution_count": 11,
   "metadata": {},
   "outputs": [
    {
     "data": {
      "text/plain": [
       "200"
      ]
     },
     "metadata": {},
     "output_type": "display_data"
    }
   ],
   "source": [
    "prod(J)"
   ]
  },
  {
   "cell_type": "code",
   "execution_count": 13,
   "metadata": {},
   "outputs": [
    {
     "data": {
      "text/plain": [
       "2.0"
      ]
     },
     "metadata": {},
     "output_type": "display_data"
    }
   ],
   "source": [
    "volume(Box)"
   ]
  },
  {
   "cell_type": "code",
   "execution_count": 14,
   "metadata": {},
   "outputs": [
    {
     "data": {
      "text/plain": [
       "2.0"
      ]
     },
     "metadata": {},
     "output_type": "display_data"
    }
   ],
   "source": [
    "volume_new(Box)"
   ]
  },
  {
   "cell_type": "code",
   "execution_count": 19,
   "metadata": {},
   "outputs": [
    {
     "data": {
      "text/plain": [
       "0.010000000000000002"
      ]
     },
     "metadata": {},
     "output_type": "display_data"
    }
   ],
   "source": [
    "vol_diff(Box,J)"
   ]
  },
  {
   "cell_type": "code",
   "execution_count": null,
   "metadata": {},
   "outputs": [],
   "source": []
  }
 ],
 "metadata": {
  "kernelspec": {
   "display_name": "Julia 1.8.1",
   "language": "julia",
   "name": "julia-1.8"
  },
  "language_info": {
   "file_extension": ".jl",
   "mimetype": "application/julia",
   "name": "julia",
   "version": "1.8.1"
  },
  "orig_nbformat": 4
 },
 "nbformat": 4,
 "nbformat_minor": 2
}
